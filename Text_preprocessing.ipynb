{
 "cells": [
  {
   "cell_type": "markdown",
   "metadata": {},
   "source": [
    "## Text Preprocessing \n",
    "- Tokenization\n",
    "- Stemming and Lemmatization\n",
    "- StopWords\n",
    "- POS "
   ]
  },
  {
   "cell_type": "code",
   "execution_count": 1,
   "metadata": {},
   "outputs": [],
   "source": [
    "import nltk\n",
    "#nltk.download()"
   ]
  },
  {
   "cell_type": "code",
   "execution_count": 2,
   "metadata": {},
   "outputs": [],
   "source": [
    "paragraph = \"\"\"Wildfire status, Being Held. Good news: overnight, parts of Jasper received over 30.5 mm of rain! \n",
    "Rain is expected to continue into tonight which, coupled with cooler weather, will further decrease fire activity. \n",
    "Caution: Heavy periods of rain can cause slopes and burnt trees to become unstable. \n",
    "Residents should use caution as gusty or shifting wind conditions can cause fire-weakened trees with loose roots to fall. \n",
    "Danger tree assessments adjacent to park highways have been completed to be safe for vehicles ONLY. \n",
    "This is an important distinction as only roads within the townsite and Pyramid Lake Road have been assessed to a safe standard for bicycling, running, and walking.\n",
    "We appreciate your patience in respecting park closures and restrictions, put in place to keep people safe throughout the fire-affected areas of the park.\n",
    "Due to the encouraging progress that fire crews have made within the Jasper Wildfire Complex, daily information updates will shift to weekly updates, unless this situation changes, and the fire becomes more active.\n",
    "Recovery update\n",
    "The Joint Recovery Coordination Centre (JRCC) is a partnership between the Municipality of Jasper and Parks Canada focused on helping our community navigate the recovery process. \n",
    "As we move ahead together, the Municipality of Jasper and Parks Canada will continue to keep residents and businesses up to date as progress is made towards recovery.\"\"\""
   ]
  },
  {
   "cell_type": "markdown",
   "metadata": {},
   "source": [
    "### Tokenization\n",
    "Convert a sequence of text into smaller parts, known as tokens. "
   ]
  },
  {
   "cell_type": "code",
   "execution_count": 3,
   "metadata": {},
   "outputs": [],
   "source": [
    "# Tokenizing sentences\n",
    "sentences = nltk.sent_tokenize(paragraph)\n",
    "\n",
    "# Tokenizing words\n",
    "words = nltk.word_tokenize(paragraph)"
   ]
  },
  {
   "cell_type": "code",
   "execution_count": 4,
   "metadata": {},
   "outputs": [
    {
     "data": {
      "text/plain": [
       "['Wildfire status, Being Held.',\n",
       " 'Good news: overnight, parts of Jasper received over 30.5 mm of rain!',\n",
       " 'Rain is expected to continue into tonight which, coupled with cooler weather, will further decrease fire activity.',\n",
       " 'Caution: Heavy periods of rain can cause slopes and burnt trees to become unstable.',\n",
       " 'Residents should use caution as gusty or shifting wind conditions can cause fire-weakened trees with loose roots to fall.']"
      ]
     },
     "execution_count": 4,
     "metadata": {},
     "output_type": "execute_result"
    }
   ],
   "source": [
    "sentences[0:5]"
   ]
  },
  {
   "cell_type": "code",
   "execution_count": 5,
   "metadata": {},
   "outputs": [
    {
     "data": {
      "text/plain": [
       "['Wildfire', 'status', ',', 'Being', 'Held']"
      ]
     },
     "execution_count": 5,
     "metadata": {},
     "output_type": "execute_result"
    }
   ],
   "source": [
    "words[0:5]"
   ]
  },
  {
   "cell_type": "code",
   "execution_count": 6,
   "metadata": {},
   "outputs": [
    {
     "data": {
      "text/plain": [
       "11"
      ]
     },
     "execution_count": 6,
     "metadata": {},
     "output_type": "execute_result"
    }
   ],
   "source": [
    "len(sentences)"
   ]
  },
  {
   "cell_type": "markdown",
   "metadata": {},
   "source": [
    "### Stemming and Lemmatization\n",
    "\n",
    "Stemming is the process of reducing infected words to their word stem (base word). E.g. history, historical -- histori; going, goes, gone -- go. \n",
    "\n",
    "Lemmatization, on the other hand convert wrods into human readable words. E.g. history, historical -- history. \n",
    "\n",
    "Note that lemmatization will take more time than stemming. "
   ]
  },
  {
   "cell_type": "markdown",
   "metadata": {},
   "source": [
    "### Stop words\n",
    "Stop words are words that are so widely used and carry very little useful information."
   ]
  },
  {
   "cell_type": "code",
   "execution_count": 7,
   "metadata": {},
   "outputs": [],
   "source": [
    "from nltk.stem import PorterStemmer\n",
    "from nltk.corpus import stopwords"
   ]
  },
  {
   "cell_type": "code",
   "execution_count": 8,
   "metadata": {},
   "outputs": [],
   "source": [
    "stemmer = PorterStemmer()"
   ]
  },
  {
   "cell_type": "code",
   "execution_count": 9,
   "metadata": {},
   "outputs": [],
   "source": [
    "for i in range(len(sentences)):\n",
    "    words = nltk.word_tokenize(sentences[i])\n",
    "    words = [stemmer.stem(word) for word in words if word not in set(stopwords.words('english'))]\n",
    "    sentences[i] = ' '.join(words)   \n",
    "    "
   ]
  },
  {
   "cell_type": "code",
   "execution_count": 10,
   "metadata": {},
   "outputs": [
    {
     "data": {
      "text/plain": [
       "['wildfir statu , be held .',\n",
       " 'good news : overnight , part jasper receiv 30.5 mm rain !',\n",
       " 'rain expect continu tonight , coupl cooler weather , decreas fire activ .',\n",
       " 'caution : heavi period rain caus slope burnt tree becom unstabl .',\n",
       " 'resid use caution gusti shift wind condit caus fire-weaken tree loos root fall .']"
      ]
     },
     "execution_count": 10,
     "metadata": {},
     "output_type": "execute_result"
    }
   ],
   "source": [
    "sentences[0:5]"
   ]
  }
 ],
 "metadata": {
  "kernelspec": {
   "display_name": "base",
   "language": "python",
   "name": "python3"
  },
  "language_info": {
   "codemirror_mode": {
    "name": "ipython",
    "version": 3
   },
   "file_extension": ".py",
   "mimetype": "text/x-python",
   "name": "python",
   "nbconvert_exporter": "python",
   "pygments_lexer": "ipython3",
   "version": "3.12.4"
  }
 },
 "nbformat": 4,
 "nbformat_minor": 2
}
